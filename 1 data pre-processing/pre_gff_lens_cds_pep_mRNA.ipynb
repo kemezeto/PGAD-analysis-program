{
 "cells": [
  {
   "cell_type": "markdown",
   "metadata": {},
   "source": [
    "用于生成new.gff文件"
   ]
  },
  {
   "cell_type": "code",
   "execution_count": 4,
   "metadata": {},
   "outputs": [],
   "source": [
    "def process_gff(input_file_path, output_file_path):\n",
    "    with open(input_file_path, 'r') as file, open(output_file_path, 'w') as output_file:\n",
    "        for line in file:\n",
    "            if line.startswith('#'):  # 跳过注释行\n",
    "                continue\n",
    "            columns = line.strip().split('\\t')\n",
    "            if columns[2] == 'CDS':  # 检查第三列是否为CDS\n",
    "                seqid = columns[0]\n",
    "                start = columns[3]\n",
    "                end = columns[4]\n",
    "                score = columns[6]\n",
    "                # 提取第九列的属性，并处理ID值\n",
    "                attributes = columns[8].split(';')\n",
    "                for attribute in attributes:\n",
    "                    if attribute.startswith('ID='):\n",
    "                        id_value = attribute.split('-')[1].split(';')[0]  # 提取ID值，并去除\"ID=\"和分号\n",
    "                        break\n",
    "                # 将提取的数据写入到输出文件中，以制表符分隔\n",
    "                output_file.write('\\t'.join([seqid, start, end, score, id_value]) + '\\n')\n",
    "\n",
    "# 假设你的GFF文件名为\"input.gff\"，输出文件名为\"output.gff\"\n",
    "input_file_path = \"GCA_008124465.1_ASM812446v1_genomic.gff\"\n",
    "output_file_path = \"output.gff\"\n",
    "\n",
    "process_gff(input_file_path, output_file_path)"
   ]
  },
  {
   "cell_type": "code",
   "execution_count": 1,
   "metadata": {},
   "outputs": [],
   "source": [
    "import re\n",
    "\n",
    "def process_data(input_file_path, output_file_path):\n",
    "    data = []\n",
    "    with open(input_file_path, 'r') as file:\n",
    "        for line in file:\n",
    "            if line.startswith('CTG'):  # 跳过注释行\n",
    "                continue\n",
    "            columns = line.strip().split('\\t')\n",
    "            if columns[0].startswith('HIC_ASM_'):\n",
    "                # 去除'Chr'前缀，包括前导零\n",
    "                seqid = re.sub(r'^HIC_ASM_*', '', columns[0])\n",
    "                data.append('\\t'.join([seqid] + columns[1:]))\n",
    "\n",
    "    # 按第一列的数字排序\n",
    "    data.sort(key=lambda x: int(x.split('\\t')[0]))\n",
    "\n",
    "    # 写入到输出文件\n",
    "    with open(output_file_path, 'w') as output_file:\n",
    "        for item in data:\n",
    "            output_file.write(item + '\\n')\n",
    "\n",
    "# 输入文件和输出文件的路径\n",
    "input_file_path = \".1.gff\"\n",
    "output_file_path = \"over.gff\"\n",
    "\n",
    "process_data(input_file_path, output_file_path)"
   ]
  },
  {
   "cell_type": "code",
   "execution_count": 2,
   "metadata": {},
   "outputs": [],
   "source": [
    "insat_file = r\"over.gff\"\n",
    "data = []\n",
    "num = 0\n",
    "with open(insat_file) as object_file:\n",
    "    lines = object_file.readlines()\n",
    "    for line in lines:\n",
    "        data.append(line.split())\n",
    "    for k in range(len(data)):\n",
    "        bb = data[k][0]\n",
    "        if data[k][0] != data[k - 1][0]:\n",
    "            num = 1\n",
    "            aa = 'Cnu' + bb + 'g' + '%04d' % num\n",
    "        else:\n",
    "            num += 1\n",
    "            aa = 'Cnu' + bb + 'g' + '%04d' % num\n",
    "        outsat_file = r'Cnu.new.gff'\n",
    "        with open(outsat_file, 'a') as obj:\n",
    "            obj.write(bb + '\\t' + aa + '\\t' + data[k][1] + '\\t' + data[k][2] + '\\t' + data[k][3] + '\\t' + str(num) + '\\t' + data[k][4] + '\\n')\n"
   ]
  },
  {
   "cell_type": "markdown",
   "metadata": {},
   "source": [
    "用于生成lens文件"
   ]
  },
  {
   "cell_type": "code",
   "execution_count": 10,
   "metadata": {},
   "outputs": [],
   "source": [
    "##以重新命名排序的gff文件为准获取lens文件\n",
    "ipf = r'Cnu.new.gff'\n",
    "data = []\n",
    "with open(ipf) as tj:\n",
    "    lines = tj.readlines()\n",
    "    for line in lines:\n",
    "        data.append(line.split())\n",
    "    for i in range(len(data)-1):\n",
    "        if data[i + 1][0] != data[i][0]:\n",
    "            opt = r'Cnu.lens'\n",
    "            with open(opt, 'a') as tjo:\n",
    "                tjo.write(data[i][0] + '\\t' + data[i][3] + '\\t' + data[i][5] + '\\n')\n",
    "        else:\n",
    "            pass\n",
    "    opt = r'Cnu.lens'\n",
    "    with open(opt, 'a') as tjo:\n",
    "        tjo.write(data[-1][0] + '\\t' + data[-1][3] + '\\t' + data[-1][5] + '\\n')  "
   ]
  },
  {
   "cell_type": "markdown",
   "metadata": {},
   "source": [
    "生成cds文件"
   ]
  },
  {
   "cell_type": "code",
   "execution_count": 11,
   "metadata": {},
   "outputs": [],
   "source": [
    "def replace_seq_name(cds_file_path, gff_file_path, output_file_path):\n",
    "    # 读取GFF文件，创建一个字典来存储第七列和第二列的对应关系\n",
    "    gff_dict = {}\n",
    "    with open(gff_file_path, 'r') as gff_file:\n",
    "        for line in gff_file:\n",
    "            if line.startswith('#'):  # 跳过注释行\n",
    "                continue\n",
    "            columns = line.strip().split('\\t')\n",
    "            gff_dict[columns[6]] = columns[1]  # 存储第七列和第二列的对应关系\n",
    "\n",
    "    # 读取CDS文件，并替换序列名\n",
    "    with open(cds_file_path, 'r') as cds_file, open(output_file_path, 'w') as output_file:\n",
    "        for line in cds_file:\n",
    "            if line.startswith('>'):  # 匹配序列名行\n",
    "                seq_name = line.strip()[1:]  # 移除'>'字符\n",
    "                if seq_name in gff_dict:  # 如果序列名在GFF字典中\n",
    "                    output_file.write(f\">{gff_dict[seq_name]}\\n\")  # 替换为GFF文件中的第二列内容\n",
    "                else:\n",
    "                    output_file.write(line)  # 如果不在字典中，保留原样\n",
    "            else:\n",
    "                output_file.write(line)  # 序列数据直接写入输出文件\n",
    "\n",
    "# 输入文件和输出文件的路径\n",
    "cds_file_path = \"Amorphophallus_konjac.clean.cds\"  # 请替换为CDS文件的实际路径\n",
    "gff_file_path = \"Ako.new.gff\"  # 请替换为GFF文件的实际路径\n",
    "output_file_path = \"Ako.cds\"  # 输出文件的名称\n",
    "\n",
    "replace_seq_name(cds_file_path, gff_file_path, output_file_path)"
   ]
  },
  {
   "cell_type": "markdown",
   "metadata": {},
   "source": [
    "生成pep文件"
   ]
  },
  {
   "cell_type": "code",
   "execution_count": 13,
   "metadata": {},
   "outputs": [],
   "source": [
    "def replace_seq_name(cds_file_path, gff_file_path, output_file_path):\n",
    "    # 读取GFF文件，创建一个字典来存储第七列和第二列的对应关系\n",
    "    gff_dict = {}\n",
    "    with open(gff_file_path, 'r') as gff_file:\n",
    "        for line in gff_file:\n",
    "            if line.startswith('#'):  # 跳过注释行\n",
    "                continue\n",
    "            columns = line.strip().split('\\t')\n",
    "            gff_dict[columns[6]] = columns[1]  # 存储第七列和第二列的对应关系\n",
    "\n",
    "    # 读取CDS文件，并替换序列名\n",
    "    with open(cds_file_path, 'r') as cds_file, open(output_file_path, 'w') as output_file:\n",
    "        for line in cds_file:\n",
    "            if line.startswith('>'):  # 匹配序列名行\n",
    "                seq_name = line.strip()[1:]  # 移除'>'字符\n",
    "                if seq_name in gff_dict:  # 如果序列名在GFF字典中\n",
    "                    output_file.write(f\">{gff_dict[seq_name]}\\n\")  # 替换为GFF文件中的第二列内容\n",
    "                else:\n",
    "                    output_file.write(line)  # 如果不在字典中，保留原样\n",
    "            else:\n",
    "                output_file.write(line)  # 序列数据直接写入输出文件\n",
    "\n",
    "# 输入文件和输出文件的路径\n",
    "cds_file_path = \"Amorphophallus_konjac.clean.pep\"  # 请替换为CDS文件的实际路径\n",
    "gff_file_path = \"Ako.new.gff\"  # 请替换为GFF文件的实际路径\n",
    "output_file_path = \"Ako.pep\"  # 输出文件的名称\n",
    "\n",
    "replace_seq_name(cds_file_path, gff_file_path, output_file_path)"
   ]
  }
 ],
 "metadata": {
  "kernelspec": {
   "display_name": "Python 3.9.7 64-bit",
   "language": "python",
   "name": "python3"
  },
  "language_info": {
   "codemirror_mode": {
    "name": "ipython",
    "version": 3
   },
   "file_extension": ".py",
   "mimetype": "text/x-python",
   "name": "python",
   "nbconvert_exporter": "python",
   "pygments_lexer": "ipython3",
   "version": "3.9.7"
  },
  "orig_nbformat": 4,
  "vscode": {
   "interpreter": {
    "hash": "bb58b8a5e356064d77409275aa6a1f162b9032006fbcb9d1859e2cbba12e0ad9"
   }
  }
 },
 "nbformat": 4,
 "nbformat_minor": 2
}
