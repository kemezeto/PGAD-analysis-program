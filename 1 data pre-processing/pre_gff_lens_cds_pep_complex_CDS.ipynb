{
 "cells": [
  {
   "cell_type": "code",
   "execution_count": null,
   "metadata": {},
   "outputs": [],
   "source": [
    "import re\n",
    "# 注意修改初始基因和染色体数量\n",
    "def process_data(input_file_path, output_file_path):\n",
    "    # 打开输入文件和输出文件\n",
    "    with open(input_file_path, 'r') as infile, open(output_file_path, 'w') as outfile:\n",
    "        gene = None\n",
    "        g1 = 97502  # 原始gff的第一个基因\n",
    "        genes = [g1 + i for i in range(10)]  # 物种染色体的数量\n",
    "\n",
    "        for line in infile:\n",
    "            line = line.strip()\n",
    "            if line.startswith('#'):\n",
    "                continue\n",
    "            columns = line.split()\n",
    "\n",
    "            if 'CDS' in columns[2]:\n",
    "                attributes = [attr.strip() for attr in columns[8].split(';')]\n",
    "                gene_id = next((attr.split('=')[1] for attr in attributes if attr.startswith('ID=')), None)\n",
    "                gene_id = re.sub(r'cds-', '', gene_id)\n",
    "\n",
    "                if gene == gene_id:\n",
    "                    continue\n",
    "                else:\n",
    "                    gene = gene_id\n",
    "\n",
    "                columns[0] = re.sub(r'\\.1', '', columns[0])  # 删除原始gff第一列的 .1\n",
    "                columns[0] = re.sub(r'\\.2', '', columns[0])  # 删除原始gff第一列的 .2\n",
    "                columns[0] = re.sub(r'CP0', '', columns[0])  # 删除原始gff第一列多余的字母\n",
    "\n",
    "                for i, gene_num in enumerate(genes, start=1):\n",
    "                    columns[0] = re.sub(re.escape(str(gene_num)), str(i), columns[0])\n",
    "\n",
    "                if columns[0].startswith('JA'):\n",
    "                    continue  # 删除多余的gff数据\n",
    "\n",
    "                # 写入到输出文件\n",
    "                outfile.write('\\t'.join(columns) + '\\n')\n",
    "\n",
    "input_file_path1 = \"GCA_023547065.1_ASM2354706v1_genomic.gff\"  # 请替换为GFF文件的实际路径\n",
    "output_file_path1 = \"test.gff\"  # 输出文件的名称\n",
    "\n",
    "process_data(input_file_path1, output_file_path1)"
   ]
  },
  {
   "cell_type": "code",
   "execution_count": 2,
   "metadata": {},
   "outputs": [],
   "source": [
    "import os\n",
    "\n",
    "def process_gff(input_file_path, output_file_path):\n",
    "    with open(input_file_path, 'r') as file, open(output_file_path, 'w') as output_file:\n",
    "        for line in file:\n",
    "            if line.startswith('#'):  # 跳过注释行\n",
    "                continue\n",
    "            columns = line.strip().split('\\t')\n",
    "            if columns[2] == 'CDS':  # 检查第三列是否为CDS\n",
    "                seqid = columns[0]\n",
    "                start = columns[3]\n",
    "                end = columns[4]\n",
    "                score = columns[6]\n",
    "                # 提取第九列的属性，并处理ID值\n",
    "                attributes = columns[8].split(';')\n",
    "                for attribute in attributes:\n",
    "                    if attribute.startswith('ID='):\n",
    "                        id_value = attribute.split('-')[1].split(';')[0]  # 提取ID值，并去除\"ID=\"和分号\n",
    "                        break\n",
    "\n",
    "                # if id_value.startswith('KA'):\n",
    "                output_file.write('\\t'.join([seqid, start, end, score, id_value]) + '\\n')\n",
    "    os.remove(input_file_path)\n",
    "\n",
    "# 假设你的GFF文件名为\"input.gff\"，输出文件名为\"output.gff\"\n",
    "input_file_path2 = \"test.gff\"\n",
    "output_file_path2 = \"test1.gff\"\n",
    "\n",
    "process_gff(input_file_path2, output_file_path2)"
   ]
  },
  {
   "cell_type": "code",
   "execution_count": 3,
   "metadata": {},
   "outputs": [],
   "source": [
    "insat_file3 = r\"test1.gff\"\n",
    "data = []\n",
    "num = 0\n",
    "with open(insat_file3) as object_file:\n",
    "    lines = object_file.readlines()\n",
    "    for line in lines:\n",
    "        data.append(line.split())\n",
    "    for k in range(len(data)):\n",
    "        bb = data[k][0]\n",
    "        if data[k][0] != data[k - 1][0]:\n",
    "            num = 1\n",
    "            aa = 'Mtr' + bb + 'g' + '%04d' % num\n",
    "        else:\n",
    "            num += 1\n",
    "            aa = 'Mtr' + bb + 'g' + '%04d' % num\n",
    "        outsat_file = r'Mtr.new.gff'\n",
    "        with open(outsat_file, 'a') as obj:\n",
    "            obj.write(bb + '\\t' + aa + '\\t' + data[k][1] + '\\t' + data[k][2] + '\\t' + data[k][3] + '\\t' + str(num) + '\\t' + data[k][4] + '\\n')\n",
    "\n",
    "import os\n",
    "os.remove(insat_file3)"
   ]
  },
  {
   "cell_type": "markdown",
   "metadata": {},
   "source": [
    "用于生成lens文件"
   ]
  },
  {
   "cell_type": "code",
   "execution_count": 4,
   "metadata": {},
   "outputs": [],
   "source": [
    "##以重新命名排序的gff文件为准获取lens文件\n",
    "ipf = r'Mtr.new.gff'\n",
    "data = []\n",
    "with open(ipf) as tj:\n",
    "    lines = tj.readlines()\n",
    "    for line in lines:\n",
    "        data.append(line.split())\n",
    "    for i in range(len(data)-1):\n",
    "        if data[i + 1][0] != data[i][0]:\n",
    "            opt = r'Mtr.lens'\n",
    "            with open(opt, 'a') as tjo:\n",
    "                tjo.write(data[i][0] + '\\t' + data[i][3] + '\\t' + data[i][5] + '\\n')\n",
    "        else:\n",
    "            pass\n",
    "    opt = r'Mtr.lens'\n",
    "    with open(opt, 'a') as tjo:\n",
    "        tjo.write(data[-1][0] + '\\t' + data[-1][3] + '\\t' + data[-1][5] + '\\n')  "
   ]
  },
  {
   "cell_type": "markdown",
   "metadata": {},
   "source": [
    "生成cds文件"
   ]
  },
  {
   "cell_type": "code",
   "execution_count": 5,
   "metadata": {},
   "outputs": [],
   "source": [
    "fr = open(r'GCA_023547065.1_ASM2354706v1_cds_from_genomic.fna')  #读文件\n",
    "fw = open(r'1.cds', 'w')  #写文件\n",
    "seq = {}\n",
    "for line in fr:\n",
    "    if line.startswith('>'):    #判断字符串是否以‘>开始’\n",
    "        name = line.split()[0]#.replace('1_cds_','')    #以空格为分隔符\n",
    "        name = '>' + name.split('_')[2]\n",
    "        seq[name] = ''\n",
    "    else:\n",
    "        seq[name] += line.replace('\\n', '')\n",
    "fr.close()\n",
    "\n",
    "for i in seq.keys():\n",
    "   fw.write(i)\n",
    "   fw.write('\\n')\n",
    "   while len(seq[i]) > 80:\n",
    "       fw.write(seq[i][:80] + \"\\n\")\n",
    "       seq[i] = seq[i][80:]\n",
    "\n",
    "   else:\n",
    "       fw.write(seq[i] + '\\n')\n",
    "fr.close()\n",
    "fw.close()\n"
   ]
  },
  {
   "cell_type": "code",
   "execution_count": 6,
   "metadata": {},
   "outputs": [],
   "source": [
    "def replace_seq_name(cds_file_path, gff_file_path, output_file_path):\n",
    "    # 读取GFF文件，创建一个字典来存储第七列和第二列的对应关系\n",
    "    gff_dict = {}\n",
    "    with open(gff_file_path, 'r') as gff_file:\n",
    "        for line in gff_file:\n",
    "            if line.startswith('#'):  # 跳过注释行\n",
    "                continue\n",
    "            columns = line.strip().split('\\t')\n",
    "            gff_dict[columns[6]] = columns[1]  # 存储第七列和第二列的对应关系\n",
    "\n",
    "    # 读取CDS文件，并替换序列名\n",
    "    with open(cds_file_path, 'r') as cds_file, open(output_file_path, 'w') as output_file:\n",
    "        for line in cds_file:\n",
    "            if line.startswith('>'):  # 匹配序列名行\n",
    "                seq_name = line.strip()[1:]  # 移除'>'字符\n",
    "                if seq_name in gff_dict:  # 如果序列名在GFF字典中\n",
    "                    output_file.write(f\">{gff_dict[seq_name]}\\n\")  # 替换为GFF文件中的第二列内容\n",
    "                else:\n",
    "                    output_file.write(line)  # 如果不在字典中，保留原样\n",
    "            else:\n",
    "                output_file.write(line)  # 序列数据直接写入输出文件\n",
    "\n",
    "# 输入文件和输出文件的路径\n",
    "cds_file_path = \"1.cds\"  # 请替换为CDS文件的实际路径\n",
    "gff_file_path = \"Mtr.new.gff\"  # 请替换为GFF文件的实际路径\n",
    "output_file_path = \"Mtr.cds\"  # 输出文件的名称\n",
    "\n",
    "replace_seq_name(cds_file_path, gff_file_path, output_file_path)\n",
    "import os\n",
    "os.remove(cds_file_path)"
   ]
  },
  {
   "cell_type": "markdown",
   "metadata": {},
   "source": [
    "生成pep文件"
   ]
  },
  {
   "cell_type": "code",
   "execution_count": 9,
   "metadata": {},
   "outputs": [
    {
     "ename": "FileNotFoundError",
     "evalue": "[Errno 2] No such file or directory: 'GCA_026586065.1_Dzin_1.0_protein.faa.faa'",
     "output_type": "error",
     "traceback": [
      "\u001b[1;31m---------------------------------------------------------------------------\u001b[0m",
      "\u001b[1;31mFileNotFoundError\u001b[0m                         Traceback (most recent call last)",
      "Cell \u001b[1;32mIn[9], line 29\u001b[0m\n\u001b[0;32m     26\u001b[0m gff_file_path \u001b[39m=\u001b[39m \u001b[39m\"\u001b[39m\u001b[39mDzi.new.gff\u001b[39m\u001b[39m\"\u001b[39m  \u001b[39m# 请替换为GFF文件的实际路径\u001b[39;00m\n\u001b[0;32m     27\u001b[0m output_file_path \u001b[39m=\u001b[39m \u001b[39m\"\u001b[39m\u001b[39mDzi.pep\u001b[39m\u001b[39m\"\u001b[39m  \u001b[39m# 输出文件的名称\u001b[39;00m\n\u001b[1;32m---> 29\u001b[0m replace_seq_name(cds_file_path, gff_file_path, output_file_path)\n",
      "Cell \u001b[1;32mIn[9], line 12\u001b[0m, in \u001b[0;36mreplace_seq_name\u001b[1;34m(cds_file_path, gff_file_path, output_file_path)\u001b[0m\n\u001b[0;32m      9\u001b[0m         gff_dict[columns[\u001b[39m6\u001b[39m]] \u001b[39m=\u001b[39m columns[\u001b[39m1\u001b[39m]  \u001b[39m# 存储第七列和第二列的对应关系\u001b[39;00m\n\u001b[0;32m     11\u001b[0m \u001b[39m# 读取CDS文件，并替换序列名\u001b[39;00m\n\u001b[1;32m---> 12\u001b[0m \u001b[39mwith\u001b[39;00m \u001b[39mopen\u001b[39;49m(cds_file_path, \u001b[39m'\u001b[39;49m\u001b[39mr\u001b[39;49m\u001b[39m'\u001b[39;49m) \u001b[39mas\u001b[39;00m cds_file, \u001b[39mopen\u001b[39m(output_file_path, \u001b[39m'\u001b[39m\u001b[39mw\u001b[39m\u001b[39m'\u001b[39m) \u001b[39mas\u001b[39;00m output_file:\n\u001b[0;32m     13\u001b[0m     \u001b[39mfor\u001b[39;00m line \u001b[39min\u001b[39;00m cds_file:\n\u001b[0;32m     14\u001b[0m         \u001b[39mif\u001b[39;00m line\u001b[39m.\u001b[39mstartswith(\u001b[39m'\u001b[39m\u001b[39m>\u001b[39m\u001b[39m'\u001b[39m):  \u001b[39m# 匹配序列名行\u001b[39;00m\n",
      "File \u001b[1;32m~\\AppData\\Roaming\\Python\\Python39\\site-packages\\IPython\\core\\interactiveshell.py:310\u001b[0m, in \u001b[0;36m_modified_open\u001b[1;34m(file, *args, **kwargs)\u001b[0m\n\u001b[0;32m    303\u001b[0m \u001b[39mif\u001b[39;00m file \u001b[39min\u001b[39;00m {\u001b[39m0\u001b[39m, \u001b[39m1\u001b[39m, \u001b[39m2\u001b[39m}:\n\u001b[0;32m    304\u001b[0m     \u001b[39mraise\u001b[39;00m \u001b[39mValueError\u001b[39;00m(\n\u001b[0;32m    305\u001b[0m         \u001b[39mf\u001b[39m\u001b[39m\"\u001b[39m\u001b[39mIPython won\u001b[39m\u001b[39m'\u001b[39m\u001b[39mt let you open fd=\u001b[39m\u001b[39m{\u001b[39;00mfile\u001b[39m}\u001b[39;00m\u001b[39m by default \u001b[39m\u001b[39m\"\u001b[39m\n\u001b[0;32m    306\u001b[0m         \u001b[39m\"\u001b[39m\u001b[39mas it is likely to crash IPython. If you know what you are doing, \u001b[39m\u001b[39m\"\u001b[39m\n\u001b[0;32m    307\u001b[0m         \u001b[39m\"\u001b[39m\u001b[39myou can use builtins\u001b[39m\u001b[39m'\u001b[39m\u001b[39m open.\u001b[39m\u001b[39m\"\u001b[39m\n\u001b[0;32m    308\u001b[0m     )\n\u001b[1;32m--> 310\u001b[0m \u001b[39mreturn\u001b[39;00m io_open(file, \u001b[39m*\u001b[39margs, \u001b[39m*\u001b[39m\u001b[39m*\u001b[39mkwargs)\n",
      "\u001b[1;31mFileNotFoundError\u001b[0m: [Errno 2] No such file or directory: 'GCA_026586065.1_Dzin_1.0_protein.faa.faa'"
     ]
    }
   ],
   "source": [
    "def replace_seq_name(cds_file_path, gff_file_path, output_file_path):\n",
    "    # 读取GFF文件，创建一个字典来存储第七列和第二列的对应关系\n",
    "    gff_dict = {}\n",
    "    with open(gff_file_path, 'r') as gff_file:\n",
    "        for line in gff_file:\n",
    "            if line.startswith('#'):  # 跳过注释行\n",
    "                continue\n",
    "            columns = line.strip().split('\\t')\n",
    "            gff_dict[columns[6]] = columns[1]  # 存储第七列和第二列的对应关系\n",
    "\n",
    "    # 读取CDS文件，并替换序列名\n",
    "    with open(cds_file_path, 'r') as cds_file, open(output_file_path, 'w') as output_file:\n",
    "        for line in cds_file:\n",
    "            if line.startswith('>'):  # 匹配序列名行\n",
    "                name = line.split(' ')[0]\n",
    "                seq_name = name.strip()[1:]  # 移除'>'字符\n",
    "                if seq_name in gff_dict:  # 如果序列名在GFF字典中\n",
    "                    output_file.write(f\">{gff_dict[seq_name]}\\n\")  # 替换为GFF文件中的第二列内容\n",
    "                else:\n",
    "                    output_file.write(line)  # 如果不在字典中，保留原样\n",
    "            else:\n",
    "                output_file.write(line)  # 序列数据直接写入输出文件\n",
    "\n",
    "# 输入文件和输出文件的路径\n",
    "cds_file_path = \"GCA_023547065.1_ASM2354706v1_protein.faa\"  # 请替换为CDS文件的实际路径\n",
    "gff_file_path = \"Mtr.new.gff\"  # 请替换为GFF文件的实际路径\n",
    "output_file_path = \"Mtr.pep\"  # 输出文件的名称\n",
    "\n",
    "replace_seq_name(cds_file_path, gff_file_path, output_file_path)"
   ]
  }
 ],
 "metadata": {
  "kernelspec": {
   "display_name": "Python 3.9.7 64-bit",
   "language": "python",
   "name": "python3"
  },
  "language_info": {
   "codemirror_mode": {
    "name": "ipython",
    "version": 3
   },
   "file_extension": ".py",
   "mimetype": "text/x-python",
   "name": "python",
   "nbconvert_exporter": "python",
   "pygments_lexer": "ipython3",
   "version": "3.9.7"
  },
  "orig_nbformat": 4,
  "vscode": {
   "interpreter": {
    "hash": "bb58b8a5e356064d77409275aa6a1f162b9032006fbcb9d1859e2cbba12e0ad9"
   }
  }
 },
 "nbformat": 4,
 "nbformat_minor": 2
}
