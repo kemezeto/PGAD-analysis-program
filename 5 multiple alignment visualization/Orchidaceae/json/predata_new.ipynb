{
 "cells": [
  {
   "cell_type": "code",
   "execution_count": 1,
   "metadata": {},
   "outputs": [
    {
     "name": "stdout",
     "output_type": "stream",
     "text": [
      "Exported data for chr 1 to Orchidaceae_data\\Orchidaceae_Dch_chr1.csv\n",
      "Exported data for chr 2 to Orchidaceae_data\\Orchidaceae_Dch_chr2.csv\n",
      "Exported data for chr 3 to Orchidaceae_data\\Orchidaceae_Dch_chr3.csv\n",
      "Exported data for chr 4 to Orchidaceae_data\\Orchidaceae_Dch_chr4.csv\n",
      "Exported data for chr 5 to Orchidaceae_data\\Orchidaceae_Dch_chr5.csv\n",
      "Exported data for chr 6 to Orchidaceae_data\\Orchidaceae_Dch_chr6.csv\n",
      "Exported data for chr 7 to Orchidaceae_data\\Orchidaceae_Dch_chr7.csv\n",
      "Exported data for chr 8 to Orchidaceae_data\\Orchidaceae_Dch_chr8.csv\n",
      "Exported data for chr 9 to Orchidaceae_data\\Orchidaceae_Dch_chr9.csv\n",
      "Exported data for chr 10 to Orchidaceae_data\\Orchidaceae_Dch_chr10.csv\n",
      "Exported data for chr 11 to Orchidaceae_data\\Orchidaceae_Dch_chr11.csv\n",
      "Exported data for chr 12 to Orchidaceae_data\\Orchidaceae_Dch_chr12.csv\n",
      "Exported data for chr 13 to Orchidaceae_data\\Orchidaceae_Dch_chr13.csv\n",
      "Exported data for chr 14 to Orchidaceae_data\\Orchidaceae_Dch_chr14.csv\n",
      "Exported data for chr 15 to Orchidaceae_data\\Orchidaceae_Dch_chr15.csv\n",
      "Exported data for chr 16 to Orchidaceae_data\\Orchidaceae_Dch_chr16.csv\n",
      "Exported data for chr 17 to Orchidaceae_data\\Orchidaceae_Dch_chr17.csv\n",
      "Exported data for chr 18 to Orchidaceae_data\\Orchidaceae_Dch_chr18.csv\n",
      "Exported data for chr 19 to Orchidaceae_data\\Orchidaceae_Dch_chr19.csv\n"
     ]
    }
   ],
   "source": [
    "import pandas as pd\n",
    "import os\n",
    "merged = pd.read_csv('./merged_output_new.csv')\n",
    "import re\n",
    "def split_chr(s):\n",
    "    # 使用正则表达式匹配一个或多个字母，后跟一个或多个数字\n",
    "    pattern = re.compile(r'([A-Za-z]+)([0-9]+)([A-Za-z]+)([0-9]+)')\n",
    "    chr = pattern.findall(s)[0][1]\n",
    "    # gene_num = pattern.findall(s)[0][3]\n",
    "    chr = int(chr)\n",
    "    return chr\n",
    "merged['chr'] = merged['reference1'].apply(split_chr)\n",
    "# 假设您的数据已经保存在一个CSV文件中，我们先将其读取到DataFrame中\n",
    "# 这里使用您提供的文件名作为示例\n",
    "# 检查chr列是否存在\n",
    "if 'chr' in merged.columns:\n",
    "    # 创建一个目录来保存分割后的文件，如果目录不存在则创建它\n",
    "    output_dir = 'Orchidaceae_data'\n",
    "    if not os.path.exists(output_dir):\n",
    "        os.makedirs(output_dir)\n",
    "    \n",
    "    # 遍历chr列的唯一值\n",
    "    for chr_value in merged['chr'].unique():\n",
    "        # 根据chr列的值筛选数据\n",
    "        subset = merged[merged['chr'] == chr_value]\n",
    "        \n",
    "        # 定义输出文件的名称\n",
    "        output_file = os.path.join(output_dir, f'Orchidaceae_Dch_chr{chr_value}.csv')\n",
    "        \n",
    "        # 将筛选后的数据导出到CSV文件\n",
    "        subset.to_csv(output_file, index=False)\n",
    "        print(f'Exported data for chr {chr_value} to {output_file}')\n",
    "else:\n",
    "    print(\"The 'chr' column does not exist in the DataFrame.\")"
   ]
  },
  {
   "cell_type": "code",
   "execution_count": 2,
   "metadata": {},
   "outputs": [
    {
     "ename": "FileNotFoundError",
     "evalue": "[Errno 2] No such file or directory: 'Arecaceae_data\\\\Arecaceae_Cnu_chr1.csv'",
     "output_type": "error",
     "traceback": [
      "\u001b[1;31m---------------------------------------------------------------------------\u001b[0m",
      "\u001b[1;31mFileNotFoundError\u001b[0m                         Traceback (most recent call last)",
      "Cell \u001b[1;32mIn[2], line 16\u001b[0m\n\u001b[0;32m     14\u001b[0m output_file_path \u001b[39m=\u001b[39m folder_path \u001b[39m/\u001b[39m \u001b[39mf\u001b[39m\u001b[39m'\u001b[39m\u001b[39mArecaceae_Cnu_chr\u001b[39m\u001b[39m{\u001b[39;00mi\u001b[39m}\u001b[39;00m\u001b[39m.txt\u001b[39m\u001b[39m'\u001b[39m\n\u001b[0;32m     15\u001b[0m \u001b[39m# 使用pandas读取CSV文件\u001b[39;00m\n\u001b[1;32m---> 16\u001b[0m df1 \u001b[39m=\u001b[39m pd\u001b[39m.\u001b[39;49mread_csv(file_path1, usecols\u001b[39m=\u001b[39;49m\u001b[39mlambda\u001b[39;49;00m column: column \u001b[39mnot\u001b[39;49;00m \u001b[39min\u001b[39;49;00m [\u001b[39m'\u001b[39;49m\u001b[39mreference1\u001b[39;49m\u001b[39m'\u001b[39;49m, \u001b[39m'\u001b[39;49m\u001b[39mchr\u001b[39;49m\u001b[39m'\u001b[39;49m])\n\u001b[0;32m     17\u001b[0m df_data \u001b[39m=\u001b[39m pd\u001b[39m.\u001b[39mDataFrame()\n\u001b[0;32m     18\u001b[0m list_all \u001b[39m=\u001b[39m []\n",
      "File \u001b[1;32md:\\python3.9.7\\lib\\site-packages\\pandas\\util\\_decorators.py:311\u001b[0m, in \u001b[0;36mdeprecate_nonkeyword_arguments.<locals>.decorate.<locals>.wrapper\u001b[1;34m(*args, **kwargs)\u001b[0m\n\u001b[0;32m    305\u001b[0m \u001b[39mif\u001b[39;00m \u001b[39mlen\u001b[39m(args) \u001b[39m>\u001b[39m num_allow_args:\n\u001b[0;32m    306\u001b[0m     warnings\u001b[39m.\u001b[39mwarn(\n\u001b[0;32m    307\u001b[0m         msg\u001b[39m.\u001b[39mformat(arguments\u001b[39m=\u001b[39marguments),\n\u001b[0;32m    308\u001b[0m         \u001b[39mFutureWarning\u001b[39;00m,\n\u001b[0;32m    309\u001b[0m         stacklevel\u001b[39m=\u001b[39mstacklevel,\n\u001b[0;32m    310\u001b[0m     )\n\u001b[1;32m--> 311\u001b[0m \u001b[39mreturn\u001b[39;00m func(\u001b[39m*\u001b[39margs, \u001b[39m*\u001b[39m\u001b[39m*\u001b[39mkwargs)\n",
      "File \u001b[1;32md:\\python3.9.7\\lib\\site-packages\\pandas\\io\\parsers\\readers.py:680\u001b[0m, in \u001b[0;36mread_csv\u001b[1;34m(filepath_or_buffer, sep, delimiter, header, names, index_col, usecols, squeeze, prefix, mangle_dupe_cols, dtype, engine, converters, true_values, false_values, skipinitialspace, skiprows, skipfooter, nrows, na_values, keep_default_na, na_filter, verbose, skip_blank_lines, parse_dates, infer_datetime_format, keep_date_col, date_parser, dayfirst, cache_dates, iterator, chunksize, compression, thousands, decimal, lineterminator, quotechar, quoting, doublequote, escapechar, comment, encoding, encoding_errors, dialect, error_bad_lines, warn_bad_lines, on_bad_lines, delim_whitespace, low_memory, memory_map, float_precision, storage_options)\u001b[0m\n\u001b[0;32m    665\u001b[0m kwds_defaults \u001b[39m=\u001b[39m _refine_defaults_read(\n\u001b[0;32m    666\u001b[0m     dialect,\n\u001b[0;32m    667\u001b[0m     delimiter,\n\u001b[1;32m   (...)\u001b[0m\n\u001b[0;32m    676\u001b[0m     defaults\u001b[39m=\u001b[39m{\u001b[39m\"\u001b[39m\u001b[39mdelimiter\u001b[39m\u001b[39m\"\u001b[39m: \u001b[39m\"\u001b[39m\u001b[39m,\u001b[39m\u001b[39m\"\u001b[39m},\n\u001b[0;32m    677\u001b[0m )\n\u001b[0;32m    678\u001b[0m kwds\u001b[39m.\u001b[39mupdate(kwds_defaults)\n\u001b[1;32m--> 680\u001b[0m \u001b[39mreturn\u001b[39;00m _read(filepath_or_buffer, kwds)\n",
      "File \u001b[1;32md:\\python3.9.7\\lib\\site-packages\\pandas\\io\\parsers\\readers.py:575\u001b[0m, in \u001b[0;36m_read\u001b[1;34m(filepath_or_buffer, kwds)\u001b[0m\n\u001b[0;32m    572\u001b[0m _validate_names(kwds\u001b[39m.\u001b[39mget(\u001b[39m\"\u001b[39m\u001b[39mnames\u001b[39m\u001b[39m\"\u001b[39m, \u001b[39mNone\u001b[39;00m))\n\u001b[0;32m    574\u001b[0m \u001b[39m# Create the parser.\u001b[39;00m\n\u001b[1;32m--> 575\u001b[0m parser \u001b[39m=\u001b[39m TextFileReader(filepath_or_buffer, \u001b[39m*\u001b[39m\u001b[39m*\u001b[39mkwds)\n\u001b[0;32m    577\u001b[0m \u001b[39mif\u001b[39;00m chunksize \u001b[39mor\u001b[39;00m iterator:\n\u001b[0;32m    578\u001b[0m     \u001b[39mreturn\u001b[39;00m parser\n",
      "File \u001b[1;32md:\\python3.9.7\\lib\\site-packages\\pandas\\io\\parsers\\readers.py:933\u001b[0m, in \u001b[0;36mTextFileReader.__init__\u001b[1;34m(self, f, engine, **kwds)\u001b[0m\n\u001b[0;32m    930\u001b[0m     \u001b[39mself\u001b[39m\u001b[39m.\u001b[39moptions[\u001b[39m\"\u001b[39m\u001b[39mhas_index_names\u001b[39m\u001b[39m\"\u001b[39m] \u001b[39m=\u001b[39m kwds[\u001b[39m\"\u001b[39m\u001b[39mhas_index_names\u001b[39m\u001b[39m\"\u001b[39m]\n\u001b[0;32m    932\u001b[0m \u001b[39mself\u001b[39m\u001b[39m.\u001b[39mhandles: IOHandles \u001b[39m|\u001b[39m \u001b[39mNone\u001b[39;00m \u001b[39m=\u001b[39m \u001b[39mNone\u001b[39;00m\n\u001b[1;32m--> 933\u001b[0m \u001b[39mself\u001b[39m\u001b[39m.\u001b[39m_engine \u001b[39m=\u001b[39m \u001b[39mself\u001b[39;49m\u001b[39m.\u001b[39;49m_make_engine(f, \u001b[39mself\u001b[39;49m\u001b[39m.\u001b[39;49mengine)\n",
      "File \u001b[1;32md:\\python3.9.7\\lib\\site-packages\\pandas\\io\\parsers\\readers.py:1217\u001b[0m, in \u001b[0;36mTextFileReader._make_engine\u001b[1;34m(self, f, engine)\u001b[0m\n\u001b[0;32m   1213\u001b[0m     mode \u001b[39m=\u001b[39m \u001b[39m\"\u001b[39m\u001b[39mrb\u001b[39m\u001b[39m\"\u001b[39m\n\u001b[0;32m   1214\u001b[0m \u001b[39m# error: No overload variant of \"get_handle\" matches argument types\u001b[39;00m\n\u001b[0;32m   1215\u001b[0m \u001b[39m# \"Union[str, PathLike[str], ReadCsvBuffer[bytes], ReadCsvBuffer[str]]\"\u001b[39;00m\n\u001b[0;32m   1216\u001b[0m \u001b[39m# , \"str\", \"bool\", \"Any\", \"Any\", \"Any\", \"Any\", \"Any\"\u001b[39;00m\n\u001b[1;32m-> 1217\u001b[0m \u001b[39mself\u001b[39m\u001b[39m.\u001b[39mhandles \u001b[39m=\u001b[39m get_handle(  \u001b[39m# type: ignore[call-overload]\u001b[39;49;00m\n\u001b[0;32m   1218\u001b[0m     f,\n\u001b[0;32m   1219\u001b[0m     mode,\n\u001b[0;32m   1220\u001b[0m     encoding\u001b[39m=\u001b[39;49m\u001b[39mself\u001b[39;49m\u001b[39m.\u001b[39;49moptions\u001b[39m.\u001b[39;49mget(\u001b[39m\"\u001b[39;49m\u001b[39mencoding\u001b[39;49m\u001b[39m\"\u001b[39;49m, \u001b[39mNone\u001b[39;49;00m),\n\u001b[0;32m   1221\u001b[0m     compression\u001b[39m=\u001b[39;49m\u001b[39mself\u001b[39;49m\u001b[39m.\u001b[39;49moptions\u001b[39m.\u001b[39;49mget(\u001b[39m\"\u001b[39;49m\u001b[39mcompression\u001b[39;49m\u001b[39m\"\u001b[39;49m, \u001b[39mNone\u001b[39;49;00m),\n\u001b[0;32m   1222\u001b[0m     memory_map\u001b[39m=\u001b[39;49m\u001b[39mself\u001b[39;49m\u001b[39m.\u001b[39;49moptions\u001b[39m.\u001b[39;49mget(\u001b[39m\"\u001b[39;49m\u001b[39mmemory_map\u001b[39;49m\u001b[39m\"\u001b[39;49m, \u001b[39mFalse\u001b[39;49;00m),\n\u001b[0;32m   1223\u001b[0m     is_text\u001b[39m=\u001b[39;49mis_text,\n\u001b[0;32m   1224\u001b[0m     errors\u001b[39m=\u001b[39;49m\u001b[39mself\u001b[39;49m\u001b[39m.\u001b[39;49moptions\u001b[39m.\u001b[39;49mget(\u001b[39m\"\u001b[39;49m\u001b[39mencoding_errors\u001b[39;49m\u001b[39m\"\u001b[39;49m, \u001b[39m\"\u001b[39;49m\u001b[39mstrict\u001b[39;49m\u001b[39m\"\u001b[39;49m),\n\u001b[0;32m   1225\u001b[0m     storage_options\u001b[39m=\u001b[39;49m\u001b[39mself\u001b[39;49m\u001b[39m.\u001b[39;49moptions\u001b[39m.\u001b[39;49mget(\u001b[39m\"\u001b[39;49m\u001b[39mstorage_options\u001b[39;49m\u001b[39m\"\u001b[39;49m, \u001b[39mNone\u001b[39;49;00m),\n\u001b[0;32m   1226\u001b[0m )\n\u001b[0;32m   1227\u001b[0m \u001b[39massert\u001b[39;00m \u001b[39mself\u001b[39m\u001b[39m.\u001b[39mhandles \u001b[39mis\u001b[39;00m \u001b[39mnot\u001b[39;00m \u001b[39mNone\u001b[39;00m\n\u001b[0;32m   1228\u001b[0m f \u001b[39m=\u001b[39m \u001b[39mself\u001b[39m\u001b[39m.\u001b[39mhandles\u001b[39m.\u001b[39mhandle\n",
      "File \u001b[1;32md:\\python3.9.7\\lib\\site-packages\\pandas\\io\\common.py:789\u001b[0m, in \u001b[0;36mget_handle\u001b[1;34m(path_or_buf, mode, encoding, compression, memory_map, is_text, errors, storage_options)\u001b[0m\n\u001b[0;32m    784\u001b[0m \u001b[39melif\u001b[39;00m \u001b[39misinstance\u001b[39m(handle, \u001b[39mstr\u001b[39m):\n\u001b[0;32m    785\u001b[0m     \u001b[39m# Check whether the filename is to be opened in binary mode.\u001b[39;00m\n\u001b[0;32m    786\u001b[0m     \u001b[39m# Binary mode does not support 'encoding' and 'newline'.\u001b[39;00m\n\u001b[0;32m    787\u001b[0m     \u001b[39mif\u001b[39;00m ioargs\u001b[39m.\u001b[39mencoding \u001b[39mand\u001b[39;00m \u001b[39m\"\u001b[39m\u001b[39mb\u001b[39m\u001b[39m\"\u001b[39m \u001b[39mnot\u001b[39;00m \u001b[39min\u001b[39;00m ioargs\u001b[39m.\u001b[39mmode:\n\u001b[0;32m    788\u001b[0m         \u001b[39m# Encoding\u001b[39;00m\n\u001b[1;32m--> 789\u001b[0m         handle \u001b[39m=\u001b[39m \u001b[39mopen\u001b[39;49m(\n\u001b[0;32m    790\u001b[0m             handle,\n\u001b[0;32m    791\u001b[0m             ioargs\u001b[39m.\u001b[39;49mmode,\n\u001b[0;32m    792\u001b[0m             encoding\u001b[39m=\u001b[39;49mioargs\u001b[39m.\u001b[39;49mencoding,\n\u001b[0;32m    793\u001b[0m             errors\u001b[39m=\u001b[39;49merrors,\n\u001b[0;32m    794\u001b[0m             newline\u001b[39m=\u001b[39;49m\u001b[39m\"\u001b[39;49m\u001b[39m\"\u001b[39;49m,\n\u001b[0;32m    795\u001b[0m         )\n\u001b[0;32m    796\u001b[0m     \u001b[39melse\u001b[39;00m:\n\u001b[0;32m    797\u001b[0m         \u001b[39m# Binary mode\u001b[39;00m\n\u001b[0;32m    798\u001b[0m         handle \u001b[39m=\u001b[39m \u001b[39mopen\u001b[39m(handle, ioargs\u001b[39m.\u001b[39mmode)\n",
      "\u001b[1;31mFileNotFoundError\u001b[0m: [Errno 2] No such file or directory: 'Arecaceae_data\\\\Arecaceae_Cnu_chr1.csv'"
     ]
    }
   ],
   "source": [
    "import pandas as pd\n",
    "import re\n",
    "import os\n",
    "from pathlib import Path\n",
    "import json\n",
    "chr_num = 19\n",
    "for i in range(1, chr_num + 1):  # 确保包含chr_num\n",
    "    # 定义CSV文件的路径并格式化字符串\n",
    "    file_path1 = Path('./Orchidaceae_data/Orchidaceae_Dch_chr{}.csv'.format(i))\n",
    "    # 创建一个名为Orchidaceae_chr_MA的文件夹\n",
    "    folder_path = Path('Orchidaceae_chr_M')\n",
    "    folder_path.mkdir(parents=True, exist_ok=True)\n",
    "    # 定义输出文件路径并格式化字符串\n",
    "    output_file_path = folder_path / f'Orchidaceae_Dch_chr{i}.txt'\n",
    "    # 使用pandas读取CSV文件\n",
    "    df1 = pd.read_csv(file_path1, usecols=lambda column: column not in ['reference1', 'chr'])\n",
    "    df_data = pd.DataFrame()\n",
    "    list_all = []\n",
    "    list_all.append(['gene_num', 'wuzhong_name', 'chr_num', 'all_name'])\n",
    "    # 逐行遍历数据框\n",
    "    for index, row in df1.iterrows():\n",
    "        # 逐列遍历当前行\n",
    "        for col in df1.columns:\n",
    "            cell_value = row[col]\n",
    "            if pd.notnull(cell_value):\n",
    "                pattern = re.compile(r'([A-Za-z]+)([0-9]+)([A-Za-z]+)([0-9]+)')  # 正则表达式\n",
    "                list_data = pattern.findall(cell_value)  # 查找所有匹配的项\n",
    "\n",
    "                if list_data:  # 确保有匹配项\n",
    "                    first_match = list_data[0]  # 获取第一个匹配项\n",
    "                    combined_numbers = first_match[1] + first_match[2]  # 组合数字部分\n",
    "\n",
    "                    # 添加元素到列表\n",
    "                    list_empty= []\n",
    "                    list_empty = [index + 1, col, combined_numbers, cell_value]  # 直接创建列表\n",
    "                    list_all.append(list_empty)\n",
    "\n",
    "    # 将列表数据写入到文件中\n",
    "    with open(output_file_path, 'w') as file:\n",
    "        json.dump(list_all, file, ensure_ascii=False, indent=4)"
   ]
  }
 ],
 "metadata": {
  "kernelspec": {
   "display_name": "Python 3.9.7 64-bit",
   "language": "python",
   "name": "python3"
  },
  "language_info": {
   "codemirror_mode": {
    "name": "ipython",
    "version": 3
   },
   "file_extension": ".py",
   "mimetype": "text/x-python",
   "name": "python",
   "nbconvert_exporter": "python",
   "pygments_lexer": "ipython3",
   "version": "3.9.7"
  },
  "vscode": {
   "interpreter": {
    "hash": "bb58b8a5e356064d77409275aa6a1f162b9032006fbcb9d1859e2cbba12e0ad9"
   }
  }
 },
 "nbformat": 4,
 "nbformat_minor": 2
}
